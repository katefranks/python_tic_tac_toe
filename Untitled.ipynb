{
 "cells": [
  {
   "cell_type": "code",
   "execution_count": 2,
   "id": "baaa9e79",
   "metadata": {},
   "outputs": [
    {
     "name": "stdout",
     "output_type": "stream",
     "text": [
      "{'name': 'charlie', 'pet': 'sally', 'age': 3}\n",
      "{'name': 'charlie', 'pet': 'dulce', 'age': 3}\n"
     ]
    }
   ],
   "source": [
    "my_dict = {'name': 'charlie', 'pet': 'sally', 'age': 3}\n",
    "print(my_dict)\n",
    "\n",
    "my_dict['pet'] = 'dulce'\n",
    "print(my_dict)\n",
    "\n",
    "demoBoard = {'7': '7' , '8': '8' , '9': '9' ,\n",
    "            '4': '4' , '5': '5' , '6': '6' ,\n",
    "            '1': '1' , '2': '2' , '3': '3' }\n",
    "\n",
    "gameBoard = {'7': ' ' , '8': ' ' , '9': ' ' ,\n",
    "            '4': ' ' , '5': ' ' , '6': ' ' ,\n",
    "            '1': ' ' , '2': ' ' , '3': ' ' }\n",
    "\n",
    "def printBoard(board):\n",
    "    print(board['7'] + '|' + board['8'] + '|' + board['9'])\n",
    "    print('-+-+-')\n",
    "    print(board['4'] + '|' + board['5'] + '|' + board['6'])\n",
    "    print('-+-+-')\n",
    "    print(board['1'] + '|' + board['2'] + '|' + board['3'])\n",
    "    print(\"\\U0001F929 \\U0001F929 \\U0001F929\")\n",
    "print(\"\"\"Demo Board:\n",
    "\"\"\")\n",
    "printBoard(demoBoard)\n",
    "printBoard(gameBoard)\n",
    "\n",
    "\n",
    "def tictactoe():\n",
    "    moves = 9\n",
    "    # turn = 'X'\n",
    "\n",
    "    player1_name = input(\"Player 1, what's your name? \")\n",
    "    player2_name = input(\"Player 2, what's your name? \")\n",
    "\n",
    "    print(printBoard(demoBoard))\n",
    "    player1_move = input(f\"\"\"{player1_name},\n",
    "    What's your move?\n",
    "    Enter a corresponding # from the demo board:\n",
    "     \"\"\")\n",
    "    for i = player1_move\n",
    "        gameBoard[i] = 'X'\n",
    "        print(printBoard(gameBoard))\n",
    "   \n",
    "\n",
    "    print(printBoard(demoBoard))\n",
    "    player2_move = input(f\"\"\"{player2_name},\n",
    "    What's your move?\n",
    "    Enter a corresponding # from the demo board: \"\"\")\n",
    "\n",
    "    gameBoard['player2_move'] = 'O'\n",
    "    print(printBoard(gameBoard))\n",
    "\n",
    "\n",
    "tictactoe()\n",
    "\n",
    "\n",
    "    "
   ]
  }
 ],
 "metadata": {
  "kernelspec": {
   "display_name": "Python 3",
   "language": "python",
   "name": "python3"
  },
  "language_info": {
   "codemirror_mode": {
    "name": "ipython",
    "version": 3
   },
   "file_extension": ".py",
   "mimetype": "text/x-python",
   "name": "python",
   "nbconvert_exporter": "python",
   "pygments_lexer": "ipython3",
   "version": "3.9.5"
  }
 },
 "nbformat": 4,
 "nbformat_minor": 5
}
